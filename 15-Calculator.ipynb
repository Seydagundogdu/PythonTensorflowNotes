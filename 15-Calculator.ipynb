{
 "cells": [
  {
   "cell_type": "code",
   "execution_count": null,
   "metadata": {},
   "outputs": [
    {
     "name": "stdout",
     "output_type": "stream",
     "text": [
      "ilk sayıyı giriniz: 2\n",
      "ikinci sayıyı giriniz: OSMAN\n",
      "Lütfen sayıları düzgün giriniz\n"
     ]
    }
   ],
   "source": [
    "def hesapla(a,b,islem):\n",
    "    \n",
    "    if islem not in \"+-*/\":\n",
    "        return(\"Lütfen geçerli bir işlem seçiniz: +-*/\")\n",
    "    if islem == \"+\":\n",
    "        return (str(a)+\" + \"+str(b) + \" = \" + str(a+b))\n",
    "    if islem == \"-\":\n",
    "        return (str(a)+\" - \"+str(b) + \" = \" + str(a-b))\n",
    "    if islem == \"*\":\n",
    "        return (str(a)+\" * \"+str(b) + \" = \" + str(a*b))\n",
    "    if islem == \"/\":\n",
    "        return (str(a)+\" / \"+str(b) + \" = \" + str(a/b))\n",
    "\n",
    "while True:\n",
    "    try:\n",
    "        a = int(input(\"ilk sayıyı giriniz: \"))\n",
    "        b = int(input(\"ikinci sayıyı giriniz: \"))\n",
    "        islem = input(\"işleminizi seçiniz: + - * /\")\n",
    "        print(hesapla(a,b,islem))\n",
    "    except:\n",
    "        print(\"Lütfen sayıları düzgün giriniz\")"
   ]
  },
  {
   "cell_type": "code",
   "execution_count": null,
   "metadata": {},
   "outputs": [],
   "source": []
  }
 ],
 "metadata": {
  "kernelspec": {
   "display_name": "Python 3",
   "language": "python",
   "name": "python3"
  }
 },
 "nbformat": 4,
 "nbformat_minor": 4
}
